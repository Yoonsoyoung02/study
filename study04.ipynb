{
 "cells": [
  {
   "cell_type": "code",
   "execution_count": 1,
   "metadata": {},
   "outputs": [
    {
     "name": "stdout",
     "output_type": "stream",
     "text": [
      "<\n"
     ]
    }
   ],
   "source": [
    "#두 정수 A와 B가 주어졌을 때, A와 B를 비교하는 프로그램을 작성하시오.\n",
    "\n",
    "A,B = map(int,input().split())\n",
    "\n",
    "if A > B:\n",
    "    print(\">\")\n",
    "elif A < B:\n",
    "    print(\"<\")\n",
    "else:\n",
    "    print(\"==\")"
   ]
  },
  {
   "cell_type": "code",
   "execution_count": null,
   "metadata": {},
   "outputs": [],
   "source": [
    "# [gpt 답안]\n",
    "A, B = map(int, input().split())\n",
    "\n",
    "if -10000 <= A <= 10000 and -10000 <= B <= 10000:\n",
    "    if A > B:\n",
    "        print(\">\")\n",
    "    elif A < B:\n",
    "        print(\"<\")\n",
    "    else:\n",
    "        print(\"==\")\n",
    "else:\n",
    "    print(\"Error: A and B must be between -10,000 and 10,000.\")"
   ]
  },
  {
   "cell_type": "code",
   "execution_count": 1,
   "metadata": {},
   "outputs": [
    {
     "name": "stdout",
     "output_type": "stream",
     "text": [
      "B\n"
     ]
    }
   ],
   "source": [
    "# 시험 점수를 입력받아 90 ~ 100점은 A, 80 ~ 89점은 B, 70 ~ 79점은 C, 60 ~ 69점은 D, 나머지 점수는 F를 출력하는 프로그램을 작성하시오.\n",
    "\n",
    "score = int(input())\n",
    "\n",
    "\n",
    "if score >= 90:\n",
    "    print('A')\n",
    "elif score >= 80:\n",
    "    print('B')\n",
    "elif score >= 70:\n",
    "    print('C')   \n",
    "elif score >= 60:\n",
    "    print('D')\n",
    "else:\n",
    "    print('F')\n",
    "\n",
    "# 코드에서 모든 줄을 탭(Tab) 하려면 프로그래밍 언어나 사용 중인 텍스트 편집기에 따라 다양한 방법이 있습니다. 여기서는 일반적인 방법과 코드로 구현하는 방법을 모두 설명하겠습니다.\n",
    "\n",
    "# 텍스트 편집기에서 직접 적용\n",
    "# (1) VS Code, Sublime Text, Atom 등:\n",
    "# 모든 줄 선택: Ctrl + A (Windows) 또는 Cmd + A (Mac)\n",
    "# 탭 추가: Tab 키\n",
    "# 탭 제거: Shift + Tab \n"
   ]
  },
  {
   "cell_type": "code",
   "execution_count": 3,
   "metadata": {},
   "outputs": [
    {
     "name": "stdout",
     "output_type": "stream",
     "text": [
      "1\n"
     ]
    }
   ],
   "source": [
    "# 연도가 주어졌을 때, 윤년이면 1, 아니면 0을 출력하는 프로그램을 작성하시오.\n",
    "# 윤년은 연도가 4의 배수이면서, 100의 배수가 아닐 때 또는 400의 배수일 때이다.\n",
    "# 예를 들어, 2012년은 4의 배수이면서 100의 배수가 아니라서 윤년이다. 1900년은 100의 배수이고 400의 배수는 아니기 때문에 윤년이 아니다. 하지만, 2000년은 400의 배수이기 때문에 윤년이다.\n",
    "year = int(input())\n",
    "\n",
    "if year % 4 ==0 and year % 100 != 0:\n",
    "    print('1')\n",
    "elif year % 400 ==0:\n",
    "    print('1')\n",
    "else:\n",
    "    print('0')\n"
   ]
  },
  {
   "cell_type": "code",
   "execution_count": null,
   "metadata": {},
   "outputs": [
    {
     "name": "stdout",
     "output_type": "stream",
     "text": [
      "1\n"
     ]
    }
   ],
   "source": [
    "# [GPT 답안]\n",
    "# 연도를 입력받아 윤년인지 확인\n",
    "year = int(input())\n",
    "\n",
    "# 윤년 조건: 4의 배수이면서 100의 배수가 아닐 때 또는 400의 배수일 때\n",
    "if (year % 4 == 0 and year % 100 != 0) or (year % 400 == 0):\n",
    "    print(1)  # 윤년\n",
    "else:\n",
    "    print(0)  # 평년"
   ]
  },
  {
   "cell_type": "code",
   "execution_count": 8,
   "metadata": {},
   "outputs": [
    {
     "name": "stdout",
     "output_type": "stream",
     "text": [
      "4\n"
     ]
    }
   ],
   "source": [
    "# 흔한 수학 문제 중 하나는 주어진 점이 어느 사분면에 속하는지 알아내는 것이다. 사분면은 아래 그림처럼 1부터 4까지 번호를 갖는다. \"Quadrant n\"은 \"제n사분면\"이라는 뜻이다.\n",
    "# 예를 들어, 좌표가 (12, 5)인 점 A는 x좌표와 y좌표가 모두 양수이므로 제1사분면에 속한다. 점 B는 x좌표가 음수이고 y좌표가 양수이므로 제2사분면에 속한다.\n",
    "# 점의 좌표를 입력받아 그 점이 어느 사분면에 속하는지 알아내는 프로그램을 작성하시오. 단, x좌표와 y좌표는 모두 양수나 음수라고 가정한다.\n",
    "\n",
    "x = int(input())\n",
    "y = int(input())\n",
    "\n",
    "\n",
    "if x >0 and y > 0:\n",
    "    print('1')\n",
    "elif x < 0 and y > 0:\n",
    "    print('2')\n",
    "elif x < 0 and y < 0:\n",
    "    print('3')\n",
    "elif x > 0 and y < 0:\n",
    "    print('4')\n"
   ]
  },
  {
   "cell_type": "code",
   "execution_count": 9,
   "metadata": {},
   "outputs": [
    {
     "name": "stdout",
     "output_type": "stream",
     "text": [
      "5 55\n"
     ]
    }
   ],
   "source": [
    "# 상근이는 매일 아침 알람을 듣고 일어난다. 알람을 듣고 바로 일어나면 다행이겠지만, 항상 조금만 더 자려는 마음 때문에 매일 학교를 지각하고 있다.\n",
    "# 상근이는 모든 방법을 동원해보았지만, 조금만 더 자려는 마음은 그 어떤 것도 없앨 수가 없었다.\n",
    "# 이런 상근이를 불쌍하게 보던 창영이는 자신이 사용하는 방법을 추천해 주었다.\n",
    "# 바로 \"45분 일찍 알람 설정하기\"이다.\n",
    "# 이 방법은 단순하다. 원래 설정되어 있는 알람을 45분 앞서는 시간으로 바꾸는 것이다. 어차피 알람 소리를 들으면, 알람을 끄고 조금 더 잘 것이기 때문이다. 이 방법을 사용하면, 매일 아침 더 잤다는 기분을 느낄 수 있고, 학교도 지각하지 않게 된다.\n",
    "# 현재 상근이가 설정한 알람 시각이 주어졌을 때, 창영이의 방법을 사용한다면, 이를 언제로 고쳐야 하는지 구하는 프로그램을 작성하시오.\n",
    "\n",
    "#[입력]\n",
    "# 첫째 줄에 두 정수 H와 M이 주어진다. (0 ≤ H ≤ 23, 0 ≤ M ≤ 59) 그리고 이것은 현재 상근이가 설정한 알람 시간 H시 M분을 의미한다.\n",
    "# 입력 시간은 24시간 표현을 사용한다. 24시간 표현에서 하루의 시작은 0:0(자정)이고, 끝은 23:59(다음날 자정 1분 전)이다. 시간을 나타낼 때, 불필요한 0은 사용하지 않는다.\n",
    "\n",
    "# 1차 작성 코드\n",
    "H,M = map(int,input().split())\n",
    "result=0\n",
    "if (H >=0 and H <= 23) and (M >=0 and H <= 59):\n",
    "    result = (H*60+M)-45\n",
    "    print(result//60,result%60) \n"
   ]
  },
  {
   "cell_type": "code",
   "execution_count": null,
   "metadata": {},
   "outputs": [
    {
     "name": "stdout",
     "output_type": "stream",
     "text": [
      "4 10\n"
     ]
    }
   ],
   "source": [
    "# 2차 작성 코드(변수 제거)\n",
    "\n",
    "H,M = map(int,input().split())\n",
    "if (H >=0 and H <= 23) and (M >=0 and M <= 59):\n",
    "    print(((H*60+M)-45)//60,((H*60+M)-45)%60) \n"
   ]
  },
  {
   "cell_type": "code",
   "execution_count": null,
   "metadata": {},
   "outputs": [],
   "source": [
    "# gpt 작성 코드\n",
    "\n",
    "# 입력받은 시간에서 45분 일찍 설정\n",
    "H, M = map(int, input().split())\n",
    "\n",
    "# 분 단위 조정\n",
    "M -= 45\n",
    "\n",
    "# 분이 음수가 되면 한 시간 감소하고 분을 60 더함\n",
    "if M < 0:\n",
    "    M += 60\n",
    "    H -= 1\n",
    "\n",
    "# 시간이 음수가 되면 23으로 변경 (24시간 형식)\n",
    "if H < 0:\n",
    "    H = 23\n",
    "\n",
    "# 결과 출력\n",
    "print(H, M)"
   ]
  }
 ],
 "metadata": {
  "kernelspec": {
   "display_name": "Python 3",
   "language": "python",
   "name": "python3"
  },
  "language_info": {
   "codemirror_mode": {
    "name": "ipython",
    "version": 3
   },
   "file_extension": ".py",
   "mimetype": "text/x-python",
   "name": "python",
   "nbconvert_exporter": "python",
   "pygments_lexer": "ipython3",
   "version": "3.13.1"
  }
 },
 "nbformat": 4,
 "nbformat_minor": 2
}
