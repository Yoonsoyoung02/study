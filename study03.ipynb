{
 "cells": [
  {
   "cell_type": "code",
   "execution_count": 6,
   "metadata": {},
   "outputs": [
    {
     "name": "stdout",
     "output_type": "stream",
     "text": [
      "10\n",
      "4\n",
      "21\n",
      "2\n",
      "1\n"
     ]
    }
   ],
   "source": [
    "for result in (A + B, A - B, A * B, A // B, A % B):\n",
    "    print(result)"
   ]
  },
  {
   "cell_type": "code",
   "execution_count": 4,
   "metadata": {},
   "outputs": [
    {
     "name": "stdout",
     "output_type": "stream",
     "text": [
      "10 4 21 2 1\n"
     ]
    }
   ],
   "source": [
    "A,B = map(int,input().split())\n",
    "\n",
    "print(A+B, A-B, A*B, A//B, A%B)"
   ]
  },
  {
   "cell_type": "code",
   "execution_count": 12,
   "metadata": {},
   "outputs": [
    {
     "name": "stdout",
     "output_type": "stream",
     "text": [
      "joonhas??!\n"
     ]
    }
   ],
   "source": [
    "# 준하는 사이트에 회원가입을 하다가 joonas라는 아이디가 이미 존재하는 것을 보고 놀랐다. 준하는 놀람을 ??!로 표현한다. \n",
    "# 준하가 가입하려고 하는 사이트에 이미 존재하는 아이디가 주어졌을 때, 놀람을 표현하는 프로그램을 작성하시오.\n",
    "# 첫째 줄에 준하가 가입하려고 하는 사이트에 이미 존재하는 아이디가 주어진다. 아이디는 알파벳 소문자로만 이루어져 있으며, 길이는 50자를 넘지 않는다.\n",
    "\n",
    "ID = input()\n",
    "ID_LIST=[]\n",
    "ID_LIST.append(ID)\n",
    "if ID in ID_LIST:\n",
    "    print( ID+\"??!\")"
   ]
  },
  {
   "cell_type": "code",
   "execution_count": null,
   "metadata": {},
   "outputs": [],
   "source": [
    "# 답안\n",
    "\n",
    "ID = input()\n",
    "print(ID + \"??!\")"
   ]
  },
  {
   "cell_type": "code",
   "execution_count": 14,
   "metadata": {},
   "outputs": [
    {
     "name": "stdout",
     "output_type": "stream",
     "text": [
      "1998\n"
     ]
    }
   ],
   "source": [
    "# ICPC Bangkok Regional.에 참가하기 위해 수완나품 국제공항에 막 도착한 팀 레드시프트 일행은 눈을 믿을 수 없었다. 공항의 대형 스크린에 올해가 2562년이라고 적혀 있던 것이었다.\n",
    "# 불교 국가인 태국은 불멸기원(佛滅紀元), 즉 석가모니가 열반한 해를 기준으로 연도를 세는 불기를 사용한다. \n",
    "# 반면, 우리나라는 서기 연도를 사용하고 있다. 불기 연도가 주어질 때 이를 서기 연도로 바꿔 주는 프로그램을 작성하시오\n",
    "\n",
    "year=int(input())\n",
    "if year <= 3000 and year >= 1000:\n",
    "    print(year-543)"
   ]
  },
  {
   "cell_type": "code",
   "execution_count": 17,
   "metadata": {},
   "outputs": [
    {
     "name": "stdout",
     "output_type": "stream",
     "text": [
      "4\n",
      "4\n",
      "3\n",
      "3\n"
     ]
    }
   ],
   "source": [
    "# (A+B)%C는 ((A%C) + (B%C))%C 와 같을까?\n",
    "# (A×B)%C는 ((A%C) × (B%C))%C 와 같을까?\n",
    "# 세 수 A, B, C가 주어졌을 때, 위의 네 가지 값을 구하는 프로그램을 작성하시오.\n",
    "A,B,C = map(int,input().split())\n",
    "\n",
    "print((A+B)%C)\n",
    "print(((A%C) + (B%C))%C)\n",
    "print((A*B)%C)\n",
    "print(((A%C) * (B%C))%C)"
   ]
  },
  {
   "cell_type": "code",
   "execution_count": 20,
   "metadata": {},
   "outputs": [
    {
     "name": "stdout",
     "output_type": "stream",
     "text": [
      "2360\n",
      "37760\n",
      "1416\n",
      "181720\n"
     ]
    }
   ],
   "source": [
    "# (세 자리 수) × (세 자리 수)\n",
    "# 각자리 곱셈 구하기\n",
    "\n",
    "A,B = map (int,input().split())\n",
    "\n",
    "line_3 = A * (B%10)\n",
    "line_4 = A * (B%100-B%10)\n",
    "line_5 = A * (B//100)\n",
    "line_6 = A * B\n",
    "\n",
    "print(line_3)\n",
    "print(line_4)\n",
    "print(line_5)\n",
    "print(line_6)"
   ]
  },
  {
   "cell_type": "code",
   "execution_count": null,
   "metadata": {},
   "outputs": [],
   "source": [
    "# 답안\n",
    "A = int(input())\n",
    "B = int(input())\n",
    "\n",
    "line_3 = A * (B % 10)\n",
    "line_4 = A * ((B // 10) % 10) # 10의 자리 도출 # B를 10으로 나눈 몫에서 다시 10으로 나누고 난 나머지 산출출\n",
    "line_5 = A * (B // 100)\n",
    "line_6 = A * B\n",
    "\n",
    "print(line_3)\n",
    "print(line_4)\n",
    "print(line_5)\n",
    "print(line_6)"
   ]
  },
  {
   "cell_type": "code",
   "execution_count": 21,
   "metadata": {},
   "outputs": [
    {
     "name": "stdout",
     "output_type": "stream",
     "text": [
      "7931\n"
     ]
    }
   ],
   "source": [
    "# 꼬마 정민이는 이제 A + B 정도는 쉽게 계산할 수 있다. 이제 A + B + C를 계산할 차례이다!\n",
    "\n",
    "A,B,C = map(int,input().split())\n",
    "\n",
    "print(A+B+C)\n"
   ]
  },
  {
   "cell_type": "code",
   "execution_count": 27,
   "metadata": {},
   "outputs": [
    {
     "name": "stdout",
     "output_type": "stream",
     "text": [
      "\\   /\\\n",
      " ) (  ')\n",
      "( /   )\n",
      "\\(__)|\n"
     ]
    },
    {
     "name": "stderr",
     "output_type": "stream",
     "text": [
      "<>:3: SyntaxWarning: invalid escape sequence '\\ '\n",
      "<>:6: SyntaxWarning: invalid escape sequence '\\('\n",
      "<>:3: SyntaxWarning: invalid escape sequence '\\ '\n",
      "<>:6: SyntaxWarning: invalid escape sequence '\\('\n",
      "C:\\Users\\USER\\AppData\\Local\\Temp\\ipykernel_10280\\3380998469.py:3: SyntaxWarning: invalid escape sequence '\\ '\n",
      "  print(\"\\   /\\\\\")\n",
      "C:\\Users\\USER\\AppData\\Local\\Temp\\ipykernel_10280\\3380998469.py:6: SyntaxWarning: invalid escape sequence '\\('\n",
      "  print(\"\\(__)|\")\n"
     ]
    }
   ],
   "source": [
    "# 아래 예제와 같이 고양이를 출력하시오.\n",
    "\n",
    "print(\"\\   /\\\\\")\n",
    "print(\" ) (  ')\")\n",
    "print(\"( /   )\")\n",
    "print(\"\\(__)|\")"
   ]
  },
  {
   "cell_type": "code",
   "execution_count": 29,
   "metadata": {},
   "outputs": [
    {
     "name": "stdout",
     "output_type": "stream",
     "text": [
      "\n",
      "\\    /\\\n",
      " )  ( ')\n",
      "(  /  )\n",
      " \\(__)|\n"
     ]
    }
   ],
   "source": [
    "print(r\"\"\" #여러 줄 문자열을 한 번에 작성하기 위해 사용 # r(raw string): 문자열 안의 백슬래시(\\)를 이스케이프 문자로 처리하지 않고, 문자 그대로 출력합니다.\n",
    "\\    /\\\n",
    " )  ( ')\n",
    "(  /  )\n",
    " \\(__)|\"\"\")"
   ]
  },
  {
   "cell_type": "code",
   "execution_count": 38,
   "metadata": {},
   "outputs": [
    {
     "name": "stdout",
     "output_type": "stream",
     "text": [
      " \n",
      "| \\_/ |\n",
      "| q p |   /}\n",
      "( ⊙  )\"\"\"\\\n",
      "|\"^\"      |\n",
      "| |_/=\\\\__| \n",
      "\n"
     ]
    }
   ],
   "source": [
    "print(r''' \n",
    "| \\_/ |\n",
    "| q p |   /}\n",
    "( ⊙  )\"\"\"\\\n",
    "|\"^\"      |\n",
    "| |_/=\\\\__| \n",
    "''')"
   ]
  }
 ],
 "metadata": {
  "kernelspec": {
   "display_name": "Python 3",
   "language": "python",
   "name": "python3"
  },
  "language_info": {
   "codemirror_mode": {
    "name": "ipython",
    "version": 3
   },
   "file_extension": ".py",
   "mimetype": "text/x-python",
   "name": "python",
   "nbconvert_exporter": "python",
   "pygments_lexer": "ipython3",
   "version": "3.13.1"
  }
 },
 "nbformat": 4,
 "nbformat_minor": 2
}
