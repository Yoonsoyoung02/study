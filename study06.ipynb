{
 "cells": [
  {
   "cell_type": "code",
   "execution_count": 1,
   "metadata": {},
   "outputs": [
    {
     "name": "stdout",
     "output_type": "stream",
     "text": [
      "[1, 2, 3, 3, 3]\n",
      "3\n"
     ]
    }
   ],
   "source": [
    "# 문제\n",
    "# 총 N개의 정수가 주어졌을 때, 정수 v가 몇 개인지 구하는 프로그램을 작성하시오.\n",
    "\n",
    "# 입력\n",
    "# 첫째 줄에 정수의 개수 N(1 ≤ N ≤ 100)이 주어진다. 둘째 줄에는 정수가 공백으로 구분되어져있다. 셋째 줄에는 찾으려고 하는 정수 v가 주어진다. \n",
    "# 입력으로 주어지는 정수와 v는 -100보다 크거나 같으며, 100보다 작거나 같다.\n",
    "\n",
    "N = int(input())\n",
    "v = int(input())\n",
    "count=0\n",
    "list=[]\n",
    "if 1<= N <= 100:\n",
    "    for i in range(N):\n",
    "        num = int(input())\n",
    "        list.append(num)\n",
    "    print(list)\n",
    "    for i in list:\n",
    "        if i == v:\n",
    "            count = count+1\n",
    "    print(count)\n",
    " "
   ]
  },
  {
   "cell_type": "code",
   "execution_count": 5,
   "metadata": {},
   "outputs": [
    {
     "name": "stdout",
     "output_type": "stream",
     "text": [
      "2\n"
     ]
    }
   ],
   "source": [
    "N = int(input())\n",
    "v = int(input())\n",
    "list=[]\n",
    "if 1<= N <= 100:\n",
    "    for i in range(N):\n",
    "        list.append(int(input()))\n",
    "    print(list.count(v))"
   ]
  },
  {
   "cell_type": "code",
   "execution_count": 6,
   "metadata": {},
   "outputs": [
    {
     "name": "stdout",
     "output_type": "stream",
     "text": [
      "2\n"
     ]
    }
   ],
   "source": [
    "# 리스트 컴프리헨션 활용 \n",
    "# new_list = [expression for item in iterable if condition]\n",
    "# expression: 리스트에 추가될 값. 표현식을 사용해 값을 변형하거나 처리 가능.\n",
    "# item: 반복문에서 사용되는 각 요소.\n",
    "# iterable: 반복 가능한 객체(예: 리스트, 튜플, 문자열 등).\n",
    "# condition(선택적): 조건이 참인 경우에만 expression을 리스트에 추가.\n",
    "\n",
    "# 입력 받기\n",
    "N = int(input())\n",
    "v = int(input())\n",
    "\n",
    "# N개의 숫자 리스트 입력 받기\n",
    "numbers = [int(input()) for i in range(N)]\n",
    "\n",
    "# v의 등장 횟수 계산\n",
    "print(numbers.count(v))"
   ]
  },
  {
   "cell_type": "code",
   "execution_count": 11,
   "metadata": {},
   "outputs": [
    {
     "name": "stdout",
     "output_type": "stream",
     "text": [
      "15\n"
     ]
    }
   ],
   "source": [
    "# 문제\n",
    "# n이 주어졌을 때, 1부터 n까지 합을 구하는 프로그램을 작성하시오.\n",
    "\n",
    "# 입력\n",
    "# 첫째 줄에 n (1 ≤ n ≤ 10,000)이 주어진다.\n",
    "\n",
    "# 출력\n",
    "# 1부터 n까지 합을 출력한다.\n",
    "\n",
    "\n",
    "N=int(input())\n",
    "sum=0\n",
    "\n",
    "for i in range(1,N+1):\n",
    "    sum = sum + i\n",
    "print(sum)\n"
   ]
  },
  {
   "cell_type": "code",
   "execution_count": null,
   "metadata": {},
   "outputs": [
    {
     "name": "stdout",
     "output_type": "stream",
     "text": [
      "확인 필요\n"
     ]
    }
   ],
   "source": [
    "# 문제\n",
    "# 준원이는 저번 주에 살면서 처음으로 코스트코를 가 봤다. 정말 멋졌다. 그런데, 몇 개 담지도 않았는데 수상하게 높은 금액이 나오는 것이다! 준원이는 영수증을 보면서 정확하게 계산된 것이 맞는지 확인해보려 한다.\n",
    "\n",
    "# 영수증에 적힌,\n",
    "\n",
    "# 구매한 각 물건의 가격과 개수\n",
    "# 구매한 물건들의 총 금액\n",
    "# 을 보고, 구매한 물건의 가격과 개수로 계산한 총 금액이 영수증에 적힌 총 금액과 일치하는지 검사해보자.\n",
    "\n",
    "# 입력\n",
    "# 첫째 줄에는 영수증에 적힌 총 금액 \n",
    "# $X$가 주어진다.\n",
    "\n",
    "# 둘째 줄에는 영수증에 적힌 구매한 물건의 종류의 수 \n",
    "# N이 주어진다.\n",
    "\n",
    "# 이후 \n",
    "# N개의 줄에는 각 물건의 가격 \n",
    "# a와 개수 \n",
    "# b가 공백을 사이에 두고 주어진다.\n",
    "\n",
    "# 출력\n",
    "# 구매한 물건의 가격과 개수로 계산한 총 금액이 영수증에 적힌 총 금액과 일치하면 Yes를 출력한다. 일치하지 않는다면 No를 출력한다.\n",
    "\n",
    "X = int(input())\n",
    "N = int(input())\n",
    "mul = 0\n",
    "\n",
    "for i in range(N):\n",
    "    a,b= map(int,input().split())\n",
    "    mul = mul + a*b\n",
    "\n",
    "if mul == X:\n",
    "    print('Yes')\n",
    "\n",
    "else:\n",
    "    print('No')"
   ]
  },
  {
   "cell_type": "code",
   "execution_count": 27,
   "metadata": {},
   "outputs": [
    {
     "name": "stdout",
     "output_type": "stream",
     "text": [
      "long long long long int\n"
     ]
    }
   ],
   "source": [
    "# 입력\n",
    "# 첫 번째 줄에는 문제의 정수 \n",
    "# N이 주어진다. \n",
    "\n",
    "# 출력\n",
    "# 혜아가 N바이트 정수까지 저장할 수 있다고 생각하는 정수 자료형의 이름을 출력하여라.\n",
    "\n",
    "N = int(input())\n",
    "\n",
    "if N % 4 ==0:\n",
    "    print('long '*(N//4)+'int')"
   ]
  },
  {
   "cell_type": "code",
   "execution_count": null,
   "metadata": {},
   "outputs": [],
   "source": [
    "# 문제\n",
    "# 본격적으로 for문 문제를 풀기 전에 주의해야 할 점이 있다. 입출력 방식이 느리면 여러 줄을 입력받거나 출력할 때 시간초과가 날 수 있다는 점이다.\n",
    "# C++을 사용하고 있고 cin/cout을 사용하고자 한다면, cin.tie(NULL)과 sync_with_stdio(false)를 둘 다 적용해 주고, endl 대신 개행문자(\\n)를 쓰자. 단, 이렇게 하면 더 이상 scanf/printf/puts/getchar/putchar 등 C의 입출력 방식을 사용하면 안 된다.\n",
    "# Java를 사용하고 있다면, Scanner와 System.out.println 대신 BufferedReader와 BufferedWriter를 사용할 수 있다. BufferedWriter.flush는 맨 마지막에 한 번만 하면 된다.\n",
    "# Python을 사용하고 있다면, input 대신 sys.stdin.readline을 사용할 수 있다. 단, 이때는 맨 끝의 개행문자까지 같이 입력받기 때문에 문자열을 저장하고 싶을 경우 .rstrip()을 추가로 해 주는 것이 좋다.\n",
    "# 또한 입력과 출력 스트림은 별개이므로, 테스트케이스를 전부 입력받아서 저장한 뒤 전부 출력할 필요는 없다. 테스트케이스를 하나 받은 뒤 하나 출력해도 된다.\n",
    "# 자세한 설명 및 다른 언어의 경우는 이 글에 설명되어 있다.\n",
    "# 이 블로그 글에서 BOJ의 기타 여러 가지 팁을 볼 수 있다.\n",
    "\n",
    "# 입력\n",
    "# 첫 줄에 테스트케이스의 개수 T가 주어진다. T는 최대 1,000,000이다. 다음 T줄에는 각각 두 정수 A와 B가 주어진다. A와 B는 1 이상, 1,000 이하이다.\n",
    "\n",
    "T = int(input())\n",
    "\n",
    "for i in range (T):\n",
    "    A,B=map(int,input().split())\n",
    "    print(A+B)"
   ]
  },
  {
   "cell_type": "code",
   "execution_count": null,
   "metadata": {},
   "outputs": [],
   "source": [
    "import sys\n",
    "\n",
    "# 테스트케이스 수 입력\n",
    "T = int(sys.stdin.readline().rstrip())\n",
    "\n",
    "# 결과 저장 리스트\n",
    "results = []\n",
    "\n",
    "# 테스트케이스 처리\n",
    "for _ in range(T):\n",
    "    A, B = map(int, sys.stdin.readline().rstrip().split())\n",
    "    results.append(A + B)\n",
    "\n",
    "# 한 번에 출력\n",
    "sys.stdout.write('\\n'.join(map(str, results)) + '\\n')\n",
    "\n"
   ]
  },
  {
   "cell_type": "code",
   "execution_count": 1,
   "metadata": {},
   "outputs": [],
   "source": [
    "# 이스케이프 문자 \n",
    "# # 1. \\n (Newline)\n",
    "# 줄바꿈(New Line)을 의미합니다.\n",
    "# 텍스트 커서를 다음 줄의 처음으로 이동시킵니다.\n",
    "\n",
    "# 2. \\t (Tab)\n",
    "# 탭(Tab)을 삽입합니다.\n",
    "# 일정한 간격(보통 4칸 또는 8칸)을 띄웁니다."
   ]
  },
  {
   "cell_type": "code",
   "execution_count": null,
   "metadata": {},
   "outputs": [],
   "source": []
  }
 ],
 "metadata": {
  "kernelspec": {
   "display_name": "Python 3",
   "language": "python",
   "name": "python3"
  },
  "language_info": {
   "codemirror_mode": {
    "name": "ipython",
    "version": 3
   },
   "file_extension": ".py",
   "mimetype": "text/x-python",
   "name": "python",
   "nbconvert_exporter": "python",
   "pygments_lexer": "ipython3",
   "version": "3.13.1"
  }
 },
 "nbformat": 4,
 "nbformat_minor": 2
}
